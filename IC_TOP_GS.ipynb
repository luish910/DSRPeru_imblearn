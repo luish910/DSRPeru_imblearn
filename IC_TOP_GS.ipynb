{
 "cells": [
  {
   "cell_type": "markdown",
   "metadata": {},
   "source": [
    "## Random Forest\n",
    "Sample Strategy: SMOTE + Random undersampling"
   ]
  },
  {
   "cell_type": "code",
   "execution_count": 1,
   "metadata": {},
   "outputs": [],
   "source": [
    "import pandas as pd\n",
    "import numpy as np\n",
    "from sklearn.datasets import make_classification\n",
    "from sklearn.model_selection import cross_val_score, GridSearchCV, train_test_split, StratifiedKFold\n",
    "from sklearn.metrics import confusion_matrix, recall_score, roc_auc_score, accuracy_score, f1_score\n",
    "from sklearn.model_selection import cross_val_score\n",
    "from imblearn.pipeline import Pipeline, make_pipeline\n"
   ]
  },
  {
   "cell_type": "code",
   "execution_count": 2,
   "metadata": {},
   "outputs": [],
   "source": [
    "X, y = make_classification(n_samples=12500, n_classes=2,n_features=10, weights=[0.99, 0.01], flip_y=0, random_state=2020)"
   ]
  },
  {
   "cell_type": "markdown",
   "metadata": {},
   "source": [
    "## Splitting the dataset into the Training set and Test set\n"
   ]
  },
  {
   "cell_type": "code",
   "execution_count": 3,
   "metadata": {},
   "outputs": [],
   "source": [
    "from sklearn.model_selection import train_test_split\n",
    "X_train, X_test, y_train, y_test = train_test_split(X, y, test_size = 0.2, random_state = 2020,stratify=y)"
   ]
  },
  {
   "cell_type": "code",
   "execution_count": 4,
   "metadata": {},
   "outputs": [
    {
     "name": "stdout",
     "output_type": "stream",
     "text": [
      ">Train: 0=9900, 1=100, Test: 0=2475, 1=25\n"
     ]
    }
   ],
   "source": [
    "# Results from split\n",
    "train_0, train_1 = len(y_train[y_train==0]), len(y_train[y_train==1])\n",
    "test_0, test_1 = len(y_test[y_test==0]), len(y_test[y_test==1])\n",
    "print('>Train: 0=%d, 1=%d, Test: 0=%d, 1=%d' % (train_0, train_1, test_0, test_1))\n"
   ]
  },
  {
   "cell_type": "markdown",
   "metadata": {},
   "source": [
    "## Creating CrossValidation Object"
   ]
  },
  {
   "cell_type": "code",
   "execution_count": 5,
   "metadata": {},
   "outputs": [],
   "source": [
    "from sklearn.model_selection import StratifiedKFold \n",
    "kf = StratifiedKFold(n_splits=5, random_state=2020, shuffle=True)\n"
   ]
  },
  {
   "cell_type": "markdown",
   "metadata": {},
   "source": [
    "## SMOTE Oversampling for the Minority Class + Random Undersampling for Majority C."
   ]
  },
  {
   "cell_type": "code",
   "execution_count": 6,
   "metadata": {},
   "outputs": [
    {
     "name": "stdout",
     "output_type": "stream",
     "text": [
      "Counter({0: 9900, 1: 100})\n",
      "Counter({0: 9900, 1: 990})\n",
      "Counter({0: 990, 1: 990})\n"
     ]
    }
   ],
   "source": [
    "from collections import Counter\n",
    "from imblearn.over_sampling import SMOTE\n",
    "from imblearn.under_sampling import RandomUnderSampler\n",
    "# summarize class distribution\n",
    "print(Counter(y_train))\n",
    "# define sample strategy\n",
    "oversample = SMOTE(sampling_strategy=0.1)\n",
    "undersample = RandomUnderSampler(sampling_strategy=1)\n",
    "\n",
    "# fit and apply the transform\n",
    "X_sample, y_sample = oversample.fit_resample(X_train, y_train)\n",
    "print(Counter(y_sample))\n",
    "\n",
    "# fit and apply the transform\n",
    "X_sample, y_sample = undersample.fit_resample(X_sample, y_sample)\n",
    "print(Counter(y_sample))\n"
   ]
  },
  {
   "cell_type": "markdown",
   "metadata": {},
   "source": [
    "## Pipeline: Oversample, then undersample, then model"
   ]
  },
  {
   "cell_type": "code",
   "execution_count": 10,
   "metadata": {},
   "outputs": [
    {
     "data": {
      "text/plain": [
       "Pipeline(steps=[('smote', SMOTE(sampling_strategy=0.1)),\n",
       "                ('randomundersampler', RandomUnderSampler(sampling_strategy=1)),\n",
       "                ('randomforestclassifier',\n",
       "                 RandomForestClassifier(random_state=2020))])"
      ]
     },
     "execution_count": 10,
     "metadata": {},
     "output_type": "execute_result"
    }
   ],
   "source": [
    "from sklearn.ensemble import RandomForestClassifier\n",
    "pipeline = make_pipeline(oversample, undersample, \n",
    "                              RandomForestClassifier(random_state=2020))\n",
    "\n",
    "pipeline"
   ]
  },
  {
   "cell_type": "code",
   "execution_count": 11,
   "metadata": {},
   "outputs": [
    {
     "data": {
      "text/plain": [
       "array([0.8 , 0.95, 0.95, 0.95, 0.7 ])"
      ]
     },
     "execution_count": 11,
     "metadata": {},
     "output_type": "execute_result"
    }
   ],
   "source": [
    "cross_val_score(pipeline, X_train, y_train, scoring='recall', cv=kf)"
   ]
  },
  {
   "cell_type": "markdown",
   "metadata": {},
   "source": [
    "## Setting up Grid Search"
   ]
  },
  {
   "cell_type": "code",
   "execution_count": 12,
   "metadata": {},
   "outputs": [
    {
     "data": {
      "text/plain": [
       "GridSearchCV(cv=StratifiedKFold(n_splits=5, random_state=2020, shuffle=True),\n",
       "             estimator=Pipeline(steps=[('smote', SMOTE(sampling_strategy=0.1)),\n",
       "                                       ('randomundersampler',\n",
       "                                        RandomUnderSampler(sampling_strategy=1)),\n",
       "                                       ('randomforestclassifier',\n",
       "                                        RandomForestClassifier(random_state=2020))]),\n",
       "             param_grid={'randomforestclassifier__max_depth': [4, 6, 10, 12],\n",
       "                         'randomforestclassifier__n_estimators': [10, 20, 50],\n",
       "                         'randomforestclassifier__random_state': [2020]},\n",
       "             return_train_score=True, scoring='recall')"
      ]
     },
     "execution_count": 12,
     "metadata": {},
     "output_type": "execute_result"
    }
   ],
   "source": [
    "params = {\n",
    "    'n_estimators': [10, 20, 50],\n",
    "    'max_depth': [4, 6, 10, 12],\n",
    "    'random_state': [2020]\n",
    "}\n",
    "new_params = {'randomforestclassifier__' + key: params[key] for key in params}\n",
    "grid = GridSearchCV(pipeline, param_grid=new_params, cv=kf, scoring='recall',\n",
    "                        return_train_score=True)\n",
    "grid.fit(X_train, y_train)"
   ]
  },
  {
   "cell_type": "code",
   "execution_count": 13,
   "metadata": {},
   "outputs": [
    {
     "data": {
      "text/plain": [
       "0.9099999999999999"
      ]
     },
     "execution_count": 13,
     "metadata": {},
     "output_type": "execute_result"
    }
   ],
   "source": [
    "grid.best_score_"
   ]
  },
  {
   "cell_type": "code",
   "execution_count": 15,
   "metadata": {},
   "outputs": [
    {
     "data": {
      "text/plain": [
       "{'randomforestclassifier__max_depth': 6,\n",
       " 'randomforestclassifier__n_estimators': 50,\n",
       " 'randomforestclassifier__random_state': 2020}"
      ]
     },
     "execution_count": 15,
     "metadata": {},
     "output_type": "execute_result"
    }
   ],
   "source": [
    "grid.best_params_"
   ]
  },
  {
   "cell_type": "markdown",
   "metadata": {},
   "source": [
    "## Recall - Test Set"
   ]
  },
  {
   "cell_type": "code",
   "execution_count": 18,
   "metadata": {},
   "outputs": [
    {
     "data": {
      "text/plain": [
       "0.92"
      ]
     },
     "execution_count": 18,
     "metadata": {},
     "output_type": "execute_result"
    }
   ],
   "source": [
    "y_pred = grid.best_estimator_.predict(X_test)\n",
    "recall_score(y_test, y_pred)"
   ]
  },
  {
   "cell_type": "markdown",
   "metadata": {},
   "source": [
    "## SVM\n",
    "Sample Strategy: SMOTE + Tomek Links"
   ]
  },
  {
   "cell_type": "markdown",
   "metadata": {},
   "source": [
    "## SMOTE + Tomek Link Combined Sampling"
   ]
  },
  {
   "cell_type": "code",
   "execution_count": 32,
   "metadata": {},
   "outputs": [
    {
     "name": "stdout",
     "output_type": "stream",
     "text": [
      "Counter({0: 9900, 1: 100})\n",
      "Counter({0: 9900, 1: 9900})\n"
     ]
    }
   ],
   "source": [
    "from collections import Counter\n",
    "from imblearn.combine import SMOTETomek\n",
    "from imblearn.under_sampling import TomekLinks\n",
    "# summarize class distribution\n",
    "print(Counter(y_train))\n",
    "# define oversample strategy\n",
    "sample = SMOTETomek(tomek=TomekLinks(sampling_strategy='majority'))\n",
    "# fit and apply the transform\n",
    "X_sample, y_sample = sample.fit_resample(X_train, y_train)\n",
    "# summarize class distribution\n",
    "print(Counter(y_sample))"
   ]
  },
  {
   "cell_type": "markdown",
   "metadata": {},
   "source": [
    "## Pipeline: Oversample, then undersample, then model"
   ]
  },
  {
   "cell_type": "code",
   "execution_count": 34,
   "metadata": {},
   "outputs": [
    {
     "data": {
      "text/plain": [
       "Pipeline(steps=[('smotetomek',\n",
       "                 SMOTETomek(tomek=TomekLinks(sampling_strategy='majority'))),\n",
       "                ('svc', SVC(random_state=0))])"
      ]
     },
     "execution_count": 34,
     "metadata": {},
     "output_type": "execute_result"
    }
   ],
   "source": [
    "from sklearn.svm import SVC\n",
    "pipeline = make_pipeline(sample, \n",
    "                              SVC(random_state=0))\n",
    "\n",
    "pipeline"
   ]
  },
  {
   "cell_type": "code",
   "execution_count": 35,
   "metadata": {},
   "outputs": [
    {
     "data": {
      "text/plain": [
       "GridSearchCV(cv=StratifiedKFold(n_splits=5, random_state=2020, shuffle=True),\n",
       "             estimator=Pipeline(steps=[('smotetomek',\n",
       "                                        SMOTETomek(tomek=TomekLinks(sampling_strategy='majority'))),\n",
       "                                       ('svc', SVC(random_state=0))]),\n",
       "             param_grid={'svc__C': [50, 10, 1.0, 0.1],\n",
       "                         'svc__kernel': ['linear', 'poly', 'rbf', 'sigmoid'],\n",
       "                         'svc__random_state': [2020]},\n",
       "             return_train_score=True, scoring='recall')"
      ]
     },
     "execution_count": 35,
     "metadata": {},
     "output_type": "execute_result"
    }
   ],
   "source": [
    "params = {\n",
    "    'kernel': ['linear', 'poly', 'rbf','sigmoid'],\n",
    "    'C': [50, 10, 1.0, 0.1],\n",
    "    'random_state': [2020]\n",
    "}\n",
    "new_params = {'svc__' + key: params[key] for key in params}\n",
    "grid = GridSearchCV(pipeline, param_grid=new_params, cv=kf, scoring='recall',\n",
    "                        return_train_score=True)\n",
    "grid.fit(X_train, y_train)"
   ]
  },
  {
   "cell_type": "code",
   "execution_count": 36,
   "metadata": {},
   "outputs": [
    {
     "data": {
      "text/plain": [
       "0.89"
      ]
     },
     "execution_count": 36,
     "metadata": {},
     "output_type": "execute_result"
    }
   ],
   "source": [
    "grid.best_score_"
   ]
  },
  {
   "cell_type": "code",
   "execution_count": 37,
   "metadata": {},
   "outputs": [
    {
     "data": {
      "text/plain": [
       "{'svc__C': 50, 'svc__kernel': 'linear', 'svc__random_state': 2020}"
      ]
     },
     "execution_count": 37,
     "metadata": {},
     "output_type": "execute_result"
    }
   ],
   "source": [
    "grid.best_params_"
   ]
  },
  {
   "cell_type": "markdown",
   "metadata": {},
   "source": [
    "# Recall - Test Set"
   ]
  },
  {
   "cell_type": "code",
   "execution_count": 38,
   "metadata": {},
   "outputs": [
    {
     "data": {
      "text/plain": [
       "0.88"
      ]
     },
     "execution_count": 38,
     "metadata": {},
     "output_type": "execute_result"
    }
   ],
   "source": [
    "y_pred = grid.best_estimator_.predict(X_test)\n",
    "recall_score(y_test, y_pred)"
   ]
  },
  {
   "cell_type": "code",
   "execution_count": null,
   "metadata": {},
   "outputs": [],
   "source": []
  }
 ],
 "metadata": {
  "kernelspec": {
   "display_name": "Python 3",
   "language": "python",
   "name": "python3"
  },
  "language_info": {
   "codemirror_mode": {
    "name": "ipython",
    "version": 3
   },
   "file_extension": ".py",
   "mimetype": "text/x-python",
   "name": "python",
   "nbconvert_exporter": "python",
   "pygments_lexer": "ipython3",
   "version": "3.7.7"
  }
 },
 "nbformat": 4,
 "nbformat_minor": 4
}
